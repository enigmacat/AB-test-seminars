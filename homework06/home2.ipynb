{
  "cells": [
    {
      "cell_type": "markdown",
      "metadata": {},
      "source": [
        "Для решения задачи нам потребуются следующие данные:\n",
        "\n",
        "- Bounce rate в GA = 40%\n",
        "- Ожидаемое изменение bounce rate после оптимизации сайта = -20%\n",
        "- Средний трафик 4000 человек в день\n",
        "- Уровень значимости alpha = 0.05\n",
        "- Мощность теста beta = 0.2 (или 80%)\n"
      ]
    },
    {
      "cell_type": "markdown",
      "metadata": {},
      "source": [
        "Сначала импортируем необходимые библиотеки:"
      ]
    },
    {
      "cell_type": "code",
      "execution_count": 1,
      "metadata": {
        "trusted": true
      },
      "outputs": [],
      "source": [
        "import math\n",
        "import scipy.stats as stats"
      ]
    },
    {
      "cell_type": "markdown",
      "metadata": {},
      "source": [
        "Далее определим функцию для расчета необходимого размера выборки:"
      ]
    },
    {
      "cell_type": "code",
      "execution_count": 2,
      "metadata": {
        "trusted": true
      },
      "outputs": [],
      "source": [
        "def sample_size(mean1, mean2, alpha, beta, power, baseline):\n",
        "    std1 = math.sqrt(baseline * (1 - baseline))\n",
        "    z_alpha = stats.norm.ppf(1 - alpha / 2)\n",
        "    z_beta = stats.norm.ppf(power)\n",
        "    std2 = std1 * math.sqrt((baseline - mean2) ** 2 / (mean1 - mean2) ** 2)\n",
        "    return ((std1 * z_alpha + std2 * z_beta) / (mean1 - mean2)) ** 2"
      ]
    },
    {
      "cell_type": "markdown",
      "metadata": {},
      "source": [
        "Где:"
      ]
    },
    {
      "cell_type": "markdown",
      "metadata": {},
      "source": [
        "- mean1 - текущее значение bounce rate (40%)\n",
        "- mean2 - ожидаемое изменение bounce rate после оптимизации сайта (-20%)\n",
        "- alpha - уровень значимости (0.05)\n",
        "- beta - мощность теста (0.2)\n",
        "- baseline - текущее значение bounce rate (40%)"
      ]
    },
    {
      "cell_type": "markdown",
      "metadata": {},
      "source": [
        "Теперь вызовем функцию c округлением до целого числа и получим результат:"
      ]
    },
    {
      "cell_type": "code",
      "execution_count": 3,
      "metadata": {
        "trusted": true
      },
      "outputs": [
        {
          "data": {
            "text/plain": [
              "5"
            ]
          },
          "execution_count": 3,
          "metadata": {},
          "output_type": "execute_result"
        }
      ],
      "source": [
        "round(sample_size(mean1=0.4, mean2=-0.2, alpha=0.05, beta=0.2, power=0.8, \n",
        "                  baseline=0.4))"
      ]
    },
    {
      "cell_type": "markdown",
      "metadata": {},
      "source": [
        "Ответ:"
      ]
    },
    {
      "cell_type": "markdown",
      "metadata": {},
      "source": [
        "5 дней нам нужно держать эксперимент при alpha = 5% и beta = 20%"
      ]
    }
  ],
  "metadata": {
    "kernelspec": {
      "display_name": "Python 3",
      "language": "python",
      "name": "python3"
    },
    "language_info": {
      "codemirror_mode": {
        "name": "ipython",
        "version": 3
      },
      "file_extension": ".py",
      "mimetype": "text/x-python",
      "name": "python",
      "nbconvert_exporter": "python",
      "pygments_lexer": "ipython3",
      "version": "3.11.3"
    }
  },
  "nbformat": 4,
  "nbformat_minor": 4
}
