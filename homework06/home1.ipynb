{
  "cells": [
    {
      "cell_type": "markdown",
      "metadata": {},
      "source": [
        "Импортируем нужные библиотеки"
      ]
    },
    {
      "cell_type": "code",
      "execution_count": 7,
      "metadata": {
        "trusted": true
      },
      "outputs": [],
      "source": [
        "import numpy as np\n",
        "from scipy.stats import norm, t"
      ]
    },
    {
      "cell_type": "markdown",
      "metadata": {},
      "source": [
        "Определяем необходимые параметры:"
      ]
    },
    {
      "cell_type": "code",
      "execution_count": 8,
      "metadata": {
        "trusted": true
      },
      "outputs": [],
      "source": [
        "n = 20000  # среднее количество юзеров в день\n",
        "sd = 156  # стандартная ошибка\n",
        "alpha = 0.05  # уровень значимости\n",
        "beta = 0.2  # вероятность ошибки второго рода\n",
        "prop_diff = 0.1  # относительное изменение таймспента"
      ]
    },
    {
      "cell_type": "markdown",
      "metadata": {},
      "source": [
        "Считаем необходимые статистические значения:"
      ]
    },
    {
      "cell_type": "code",
      "execution_count": 9,
      "metadata": {
        "trusted": true
      },
      "outputs": [],
      "source": [
        "se = sd / np.sqrt(n)  # стандартная ошибка среднего\n",
        "m = se * norm.ppf(1 - alpha/2)  # граница для доверительного интервала\n",
        "delta = prop_diff * n  # абсолютное изменение таймспента"
      ]
    },
    {
      "cell_type": "markdown",
      "metadata": {},
      "source": [
        "Определяем критические значения для тестов:"
      ]
    },
    {
      "cell_type": "code",
      "execution_count": 10,
      "metadata": {
        "trusted": true
      },
      "outputs": [],
      "source": [
        "z_alpha = norm.ppf(1 - alpha)  \n",
        "z_beta = norm.ppf(1 - beta) "
      ]
    },
    {
      "cell_type": "markdown",
      "metadata": {},
      "source": [
        "Определяем необходимое время эксперимента:"
      ]
    },
    {
      "cell_type": "code",
      "execution_count": 11,
      "metadata": {
        "trusted": true
      },
      "outputs": [],
      "source": [
        "n_1 = (z_alpha*m + z_beta*sd/delta)**2\n",
        "n_2 = (z_alpha*m - z_beta*sd/delta)**2\n",
        "n_round = np.ceil(max(n_1, n_2))\n",
        "days = np.ceil(n_round/n)  # количество дней"
      ]
    },
    {
      "cell_type": "markdown",
      "metadata": {},
      "source": [
        "Выводим результат:"
      ]
    },
    {
      "cell_type": "code",
      "execution_count": 12,
      "metadata": {
        "trusted": true
      },
      "outputs": [
        {
          "name": "stdout",
          "output_type": "stream",
          "text": [
            "Необходимо собрать данные в течении 1 дней\n"
          ]
        }
      ],
      "source": [
        "print(f\"Необходимо собрать данные в течении {int(days)} дней\")"
      ]
    }
  ],
  "metadata": {
    "kernelspec": {
      "display_name": "Python 3",
      "language": "python",
      "name": "python3"
    },
    "language_info": {
      "codemirror_mode": {
        "name": "ipython",
        "version": 3
      },
      "file_extension": ".py",
      "mimetype": "text/x-python",
      "name": "python",
      "nbconvert_exporter": "python",
      "pygments_lexer": "ipython3",
      "version": "3.11.3"
    }
  },
  "nbformat": 4,
  "nbformat_minor": 4
}
